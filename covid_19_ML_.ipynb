{
  "nbformat": 4,
  "nbformat_minor": 0,
  "metadata": {
    "colab": {
      "name": "covid-19 ML .ipynb",
      "provenance": [],
      "collapsed_sections": [],
      "toc_visible": true,
      "mount_file_id": "1oO89O2KmEjGtiChNmWwZYHwoliahHehN",
      "authorship_tag": "ABX9TyNSHVx8Ejs/Wj5sCF6SPeb5",
      "include_colab_link": true
    },
    "kernelspec": {
      "name": "python3",
      "display_name": "Python 3"
    }
  },
  "cells": [
    {
      "cell_type": "markdown",
      "metadata": {
        "id": "view-in-github",
        "colab_type": "text"
      },
      "source": [
        "<a href=\"https://colab.research.google.com/github/alirustama/Mansoori/blob/master/covid_19_ML_.ipynb\" target=\"_parent\"><img src=\"https://colab.research.google.com/assets/colab-badge.svg\" alt=\"Open In Colab\"/></a>"
      ]
    },
    {
      "cell_type": "code",
      "metadata": {
        "id": "TuQXXL2kHqtf",
        "colab_type": "code",
        "colab": {}
      },
      "source": [
        "\n",
        "\n",
        "from plotly.subplots import make_subplots\n",
        "import seaborn as sns\n",
        "import plotly as py\n",
        "from plotly import tools\n",
        "#import plotly.offline as offline\n",
        "import plotly.graph_objs as go\n",
        "import matplotlib.pyplot as plt\n",
        "\n",
        "\n",
        "df=pd.read_excel('/content/Covid cases in India.xlsx')Section\n",
        "df_india=df.copy()import plotly as py\n",
        "from plotly import tools\n",
        "import plotly.offline as offline\n",
        "import plotly.graph_objs as goSectiSectionon\n",
        "import pandas as pd\n",
        "Section\n",
        "df"
      ],
      "execution_count": 0,
      "outputs": []
    },
    {
      "cell_type": "code",
      "metadata": {
        "id": "1m6SXio1KTtj",
        "colab_type": "code",
        "colab": {}
      },
      "source": [
        ""
      ],
      "execution_count": 0,
      "outputs": []
    },
    {
      "cell_type": "code",
      "metadata": {
        "id": "1TQPfuhSKWIa",
        "colab_type": "code",
        "colab": {}
      },
      "source": [
        "!apt-get -qq install python-cartopy python3-cartopy\n",
        "import cartopy"
      ],
      "execution_count": 0,
      "outputs": []
    },
    {
      "cell_type": "markdown",
      "metadata": {
        "id": "cmcrs3LCIPur",
        "colab_type": "text"
      },
      "source": [
        "`reading dataset`\n",
        "\n",
        "# 1.  READ DATA SET\n",
        "\n"
      ]
    },
    {
      "cell_type": "markdown",
      "metadata": {
        "id": "ck_TspZ8IoB5",
        "colab_type": "text"
      },
      "source": [
        "ANALYSIS THE COVID-19 CASES\n"
      ]
    },
    {
      "cell_type": "markdown",
      "metadata": {
        "id": "HQF40keSI9Q2",
        "colab_type": "text"
      },
      "source": [
        "DAY  BY DAY DATA OF INDIA AND OTHER COUNTRY CASES"
      ]
    },
    {
      "cell_type": "code",
      "metadata": {
        "id": "68Q_ihZvJu0m",
        "colab_type": "code",
        "colab": {}
      },
      "source": [
        "xcel('/content/per_day_caxcel('/content/per_day_ca\n",
        "\n",
        "India_coord = pd.read_excel('/content/Indian coordinates.xlsx')\n",
        "#day by day data of india and other country\n",
        "dbd_India=pd.read_excel('/content/per_day_cases.xlsx',parse_dates=True, sheet_name='India')\n",
        "dbd_Italy=pd.read_excel('/content/per_day_cases.xlsx',parse_dates=True, sheet_name='Italy')\n",
        "dbd_Korea=pd.read_excel('/content/per_day_cases.xlsx',parse_dates=True, sheet_name='Korea')\n",
        "dbd_Wuhan=pd.read_excel('/content/per_day_cases.xlsx',parse_dates=True, sheet_name='Wuhan')\n"
      ],
      "execution_count": 0,
      "outputs": []
    },
    {
      "cell_type": "code",
      "metadata": {
        "id": "gZ77nRFoWlbo",
        "colab_type": "code",
        "colab": {}
      },
      "source": [
        "#\n",
        "\n",
        "df.drop(['S. No.'],axis=1,inplace=True)\n",
        "df['Total Cases']=df['Total Confirmed Cases (Indian National)']+df['Total Confirmed Cases ( Foreign National )']\n",
        "total_cases=df['Total Cases'].sum()\n",
        "print('Total no. of Confirmed COVID-19 Cases across India till date(22 march 2020):',total_cases)\n"
      ],
      "execution_count": 0,
      "outputs": []
    },
    {
      "cell_type": "code",
      "metadata": {
        "id": "hKigLav-ZWxK",
        "colab_type": "code",
        "colab": {}
      },
      "source": [
        "#Learn How to highlight the your distanation\n",
        "df.style.background_gradient(cmap='Greens')"
      ],
      "execution_count": 0,
      "outputs": []
    },
    {
      "cell_type": "code",
      "metadata": {
        "id": "yVG-ANguaFH8",
        "colab_type": "code",
        "colab": {}
      },
      "source": [
        "df['Total Active']=df['Total Cases']-(df['Death']+ df['Cured'])\n",
        "total_active=df['Total Active'].sum()\n",
        "print('Total no. of active Covid 19 cases across India',total_active)\n",
        "Tot_cases=df.groupby('Name of State / UT')['Total Active'].sum().sort_values(ascending=False).to_frame()\n",
        "Tot_cases.style.background_gradient(cmap='Greens')"
      ],
      "execution_count": 0,
      "outputs": []
    },
    {
      "cell_type": "code",
      "metadata": {
        "id": "hjB9c-LRnv6S",
        "colab_type": "code",
        "colab": {}
      },
      "source": [
        "#Confirmd vs Recoveri ng figures\n",
        "#how to use seaborn\n",
        "\n",
        "\n",
        "f,ax=plt.subplot(figsize=(15,9))\n",
        "data=df_full[['Name of State / UT','Total casese','Cured','Death']]\n",
        "data.sort_value('Total cases',ascending=False,inplace=True)\n",
        "sns.set_color_codes(\"Pastel\")\n",
        "sns.barplot(x=\"Total cases\",y=\"Name of State / UT\",data=data,label=\"Total\",color=\"r\")\n",
        "sns.set_color_codes(\"muted\")\n",
        "sns.barplot(x=\"Cured\",y=\"Name of State / UT\",data=data,label=\"Cured\",color=\"g\")\n",
        "\n",
        "#add a legend & information axis label\n",
        "\n",
        "ax.legend(bcol=2,loc=\"lower right\",frameon=True)\n",
        "ax.set(xlim=(0, 35),ylabel=\"\",xlabel=\"Cases\")\n",
        "sns.despine(left=True,bottom=True)"
      ],
      "execution_count": 0,
      "outputs": []
    },
    {
      "cell_type": "markdown",
      "metadata": {
        "id": "NNGvLAo9JQwU",
        "colab_type": "text"
      },
      "source": [
        "CONFIRMED AND RECOVERED CASES IN INDIA"
      ]
    },
    {
      "cell_type": "code",
      "metadata": {
        "id": "LQ24ewtjtvEt",
        "colab_type": "code",
        "colab": {}
      },
      "source": [
        "#how the casese are rising\n",
        "#when you are working with plotly on colab\n",
        "import plotly\n",
        "plotly.io.renderers.default='colab'"
      ],
      "execution_count": 0,
      "outputs": []
    },
    {
      "cell_type": "code",
      "metadata": {
        "id": "ZtK73G7_uqEU",
        "colab_type": "code",
        "colab": {}
      },
      "source": [
        "#rise of covid 19 in india\n",
        "import plotly.graph_objs as go\n",
        "\n",
        "\n",
        "fig=go.Figure()\n",
        "fig.add_trace(go.Scatter(x=dbd_India['Date'],y=dbd_India['Total Cases'], mode='lines+markers',name='total Cases'))\n",
        "fig.update_layout(title_text='Trend of Coronavirus Cases in India(Cumulative cases)',plot_bgcolor='rgb(230,230,230)')\n",
        "fig.show()\n",
        "\n",
        "#new cases reported daily in india\n",
        "import plotly.express as px\n",
        "\n",
        "fig=px.bar(dbd_India, x='Date',y='New Cases',barmode='group',height=400)\n",
        "fig.update_layout(title_text='Coronavirus Cases in India on daily basis',plot_bgcolor='rgb(230,230,230)')\n",
        "\n",
        "fig.show()"
      ],
      "execution_count": 0,
      "outputs": []
    },
    {
      "cell_type": "markdown",
      "metadata": {
        "id": "Yn9wQcCfH-BH",
        "colab_type": "text"
      },
      "source": [
        "graphical reprented"
      ]
    },
    {
      "cell_type": "markdown",
      "metadata": {
        "id": "d7LRGe57Jd9Q",
        "colab_type": "text"
      },
      "source": [
        "GRAPHICAL PLOT THE CONFIRMED CASES IN INDIA ITALY KOREA AND WUHAN"
      ]
    },
    {
      "cell_type": "markdown",
      "metadata": {
        "id": "C-Bn9kFIJ-W7",
        "colab_type": "text"
      },
      "source": [
        "# New Section"
      ]
    },
    {
      "cell_type": "code",
      "metadata": {
        "id": "T1WiLJ5yKNvM",
        "colab_type": "code",
        "colab": {}
      },
      "source": [
        "# https://pypi.python.org/pypi/libarchive\n",
        "!apt-get -qq install -y libarchive-dev && pip install -q -U libarchive\n",
        "import libarchive"
      ],
      "execution_count": 0,
      "outputs": []
    },
    {
      "cell_type": "code",
      "metadata": {
        "id": "Enh8vUn5hiBR",
        "colab_type": "code",
        "colab": {}
      },
      "source": [
        "import plotly.express as px\n",
        "import plotly\n",
        "import plotly.graph_objs as go\n",
        "from plotly import tools\n",
        "\n",
        "\n",
        "fig=px.bar(dbd_India, x=\"Date\",y=\"Total Cases\",color='Total Cases',orientation='v',height=600,\n",
        "           title='Confirmed Cases in India', color_discrete_sequence= px.colors.cyclical.IceFire)\n",
        "\n",
        "'''Colour Scale for plotly\n",
        "http://plot.ly/python/builtin-colorscales/\n",
        "'''\n",
        "\n",
        "fig.update_layout(plot_bgcolor='rgb(230,230,230)')\n",
        "fig.show()\n",
        "\n",
        "fig=px.bar(dbd_Italy, x=\"Date\",y=\"Total Cases\",color='Total Cases',orientation='v',height=600,\n",
        "           title='Confirmed Cases in Italy',color_discrete_sequence=px.colors.cyclical.IceFire)\n",
        "\n",
        "fig.update_layout(plot_bgcolor='rgb(230,230,230)')\n",
        "fig.show()\n",
        "\n",
        "fig=px.bar(dbd_Korea, x=\"Date\",y=\"Total Cases\",color='Total Cases',orientation='v',height=600,\n",
        "           title='Confirmed Cases in Korea',color_discrete_sequence=px.colors.cyclical.IceFire)\n",
        "\n",
        "fig.update_layout(plot_bgcolor='rgb(230,230,230)')\n",
        "fig.show()\n",
        "\n",
        "\n",
        "fig=px.bar(dbd_Italy, x=\"Date\",y=\"Total Cases\",color='Total Cases',orientation='v',height=600,\n",
        "           title='Confirmed Cases in Wuhan',color_discrete_sequence=px.colors.cyclical.IceFire)\n",
        " subplot_titles(\"S.Korea\",\"Italy\",\"India\",\"Wuhan\"))\n",
        "fig.update_layout(plot_bgcolor='rgb(230,230,230)')\n",
        "fig.show()"
      ],
      "execution_count": 0,
      "outputs": []
    },
    {
      "cell_type": "code",
      "metadata": {
        "id": "hzcgYHPVydBZ",
        "colab_type": "code",
        "colab": {}
      },
      "source": [
        "import plotly as py\n",
        "from plotly import tools\n",
        "import plotly.offline as offline\n",
        "import plotly.graph_objs as go\n",
        "import pandas as pdconfirmed_forecast_plot=a.plot_components(forecast)\n",
        "\n",
        "from plotly.subplots import make_subplots\n",
        "\n",
        "fig=make_subplots(\n",
        "    rows=2,cols=2,\n",
        "    specs=[[{},{}],\n",
        "           [{\"colspan\":2}, None]],\n",
        "    subplot_titles=(\"S.Korea\",\"Italy\",\"India\",\"Wuhan\"))\n",
        "fig.add_trace(go.Bar(x=dbd_Korea['Date'],y=dbd_Korea['Total Cases'],\n",
        "                     marker=dict(color=dbd_Korea['Total Cases'],coloraxis=\"coloraxis\")),1,1)\n",
        "\n",
        "fig.add_trace(go.Bar(x=dbd_Italy['Date'],y=dbd_Italy['Total Cases'],\n",
        "                     marker=dict(color=dbd_Italy['Total Cases'],coloraxis=\"coloraxis\")),1,2)\n",
        "\n",
        "fig.add_trace(go.Bar(x=dbd_India['Date'],y=dbd_India['Total Cases'],\n",
        "                     marker=dict(color=dbd_India['Total Cases'],coloraxis=\"coloraxis\")),2,1)\n",
        "\n",
        "#fig.add_trace(go.Bar(x=dbd_Wuhan['Date'],y=dbd_Wuhan['Total Cases'],\n",
        " #                    marker=dict(color=dbd_Wuhan['Total Cases'],coloraxis=\"coloraxis\"),2,2))\n",
        "\n",
        "fig.update_layout(coloraxis=dict(colorscale='Bluered_r'),showlegend=False,title_text=\"Total Confirmed Cases (Cumulative)\")\n",
        "\n",
        "fig.update_layout(plot_bgcolor='rgb(230,230,230)')\n",
        "\n",
        "fig.show()\n",
        "\n",
        "\n"
      ],
      "execution_count": 0,
      "outputs": []
    },
    {
      "cell_type": "markdown",
      "metadata": {
        "id": "O7NbfpS4JsrP",
        "colab_type": "text"
      },
      "source": [
        "WORLD WIDE"
      ]
    },
    {
      "cell_type": "code",
      "metadata": {
        "id": "9NEf4w4U-pOU",
        "colab_type": "code",
        "colab": {}
      },
      "source": [
        ""
      ],
      "execution_count": 0,
      "outputs": []
    },
    {
      "cell_type": "code",
      "metadata": {
        "colab_type": "code",
        "id": "XXkNWuajmL0U",
        "colab": {}
      },
      "source": [
        "import plotly.graph_objs as go\n",
        "import pandas as pd\n",
        "\n",
        "\n",
        "\n",
        "\n",
        "\n",
        "title = 'main source for News'\n",
        "labels = ['Korea','Italy','India']\n",
        "colors =['rgb(122,128,0)','rgb(255,0,0)','rgb(49,130,189)']\n",
        "\n",
        "mode_size=[10,10,12]\n",
        "line_size=[1,1,8]\n",
        "\n",
        "fig=go.Figure()\n",
        "\n",
        "fig.add_trace(go.Scatter(x=dbd_Korea['Day after surpassing 100 cases'],\n",
        "                 y=dbd_Korea['Total Cases'], mode='lines',\n",
        "                 name=labels[0],\n",
        "                 line=dict(color=color[0],width=line_size[0]),\n",
        "                 connectgaps=True))\n",
        "\n",
        "fig.add_trace(go.Scatter(x=dbd_Italy['Day after surpassing 100 cases'],\n",
        "                 y=dbd_Italy['Total Cases'],mode='lines',\n",
        "                 name=labels[1],\n",
        "                 line=dict(color=color[1],width=line_size[1]),\n",
        "                 connectgaps=True ))\n",
        "\n",
        "\n",
        "\n",
        "fig.add_trace(go.Scatter(x=dbd_India['Day after surpassing 100 cases'],\n",
        "                 y=dbd_India['Total Cases'],mode='lines',\n",
        "                 name=labels[2],\n",
        "                 line=dict(color=color[2],width=line_size[2]),\n",
        "                 connectgaps=True ))\n",
        "\n",
        "annotations=[]\n",
        "\n",
        "annotations.append(dict(xref='paper',yref='paper',x=0.5,y=-0.1,\n",
        "                              xanchor='center',yanchor='top',\n",
        "                              text='Days after surpassing 100 cases',\n",
        "                              font=dict(family='Arial',\n",
        "                                        size=12,\n",
        "                                        color='rgb(150,150,150)'),\n",
        "                              showarrow=False))\n",
        "\n",
        "fig.update_layout(annotations=annotations,plot_bgcolor='green',yaxis_title='Cumulative Cases')\n",
        "\n",
        "\n",
        "fig.show()\n",
        "\n",
        "\n"
      ],
      "execution_count": 0,
      "outputs": []
    },
    {
      "cell_type": "code",
      "metadata": {
        "id": "YF24TazByfgH",
        "colab_type": "code",
        "colab": {}
      },
      "source": [
        "#explore world wide data\n",
        "\n",
        "df = pd.read_csv('/content/covid_19_clean_complete.csv',parse_dates=['Date'])\n",
        "df.rename(columns={'Observation':'Date','Country/Region':'Country'},inplace=True)\n",
        "\n",
        "\n",
        "df_confirmed=pd.read_csv(\"/content/time_series_covid19_confirmed_global.csv\")\n",
        "df_recovered=pd.read_csv(\"/content/time_series_covid19_recovered_global.csv\")\n",
        "df_deaths=pd.read_csv(\"/content/time_series_covid19_deaths_global.csv\")\n",
        "\n",
        "df_confirmed.rename(columns={'Country/Region':'Country'}, inplace=True)\n",
        "df_recovered.rename(columns={'Country/Region':'Country'}, inplace=True)\n",
        "df_deaths.rename(columns={'Country/Region':'Country'}, inplace=True)\n",
        "\n",
        "df_deaths.head()"
      ],
      "execution_count": 0,
      "outputs": []
    },
    {
      "cell_type": "markdown",
      "metadata": {
        "id": "v9e3JpwdJ3ne",
        "colab_type": "text"
      },
      "source": [
        "READ THE DATA \n"
      ]
    },
    {
      "cell_type": "code",
      "metadata": {
        "id": "q2d7_ZM60vYV",
        "colab_type": "code",
        "outputId": "7e401f0b-c463-4182-ec12-46fc4459a8f5",
        "colab": {
          "base_uri": "https://localhost:8080/",
          "height": 204
        }
      },
      "source": [
        "df.head()"
      ],
      "execution_count": 0,
      "outputs": [
        {
          "output_type": "execute_result",
          "data": {
            "text/html": [
              "<div>\n",
              "<style scoped>\n",
              "    .dataframe tbody tr th:only-of-type {\n",
              "        vertical-align: middle;\n",
              "    }\n",
              "\n",
              "    .dataframe tbody tr th {\n",
              "        vertical-align: top;\n",
              "    }\n",
              "\n",
              "    .dataframe thead th {\n",
              "        text-align: right;\n",
              "    }\n",
              "</style>\n",
              "<table border=\"1\" class=\"dataframe\">\n",
              "  <thead>\n",
              "    <tr style=\"text-align: right;\">\n",
              "      <th></th>\n",
              "      <th>Province/State</th>\n",
              "      <th>Country</th>\n",
              "      <th>Lat</th>\n",
              "      <th>Long</th>\n",
              "      <th>Date</th>\n",
              "      <th>Confirmed</th>\n",
              "      <th>Deaths</th>\n",
              "      <th>Recovered</th>\n",
              "    </tr>\n",
              "  </thead>\n",
              "  <tbody>\n",
              "    <tr>\n",
              "      <th>0</th>\n",
              "      <td>NaN</td>\n",
              "      <td>Thailand</td>\n",
              "      <td>15.0000</td>\n",
              "      <td>101.0000</td>\n",
              "      <td>2020-01-22</td>\n",
              "      <td>2.0</td>\n",
              "      <td>0.0</td>\n",
              "      <td>0.0</td>\n",
              "    </tr>\n",
              "    <tr>\n",
              "      <th>1</th>\n",
              "      <td>NaN</td>\n",
              "      <td>Japan</td>\n",
              "      <td>36.0000</td>\n",
              "      <td>138.0000</td>\n",
              "      <td>2020-01-22</td>\n",
              "      <td>2.0</td>\n",
              "      <td>0.0</td>\n",
              "      <td>0.0</td>\n",
              "    </tr>\n",
              "    <tr>\n",
              "      <th>2</th>\n",
              "      <td>NaN</td>\n",
              "      <td>Singapore</td>\n",
              "      <td>1.2833</td>\n",
              "      <td>103.8333</td>\n",
              "      <td>2020-01-22</td>\n",
              "      <td>0.0</td>\n",
              "      <td>0.0</td>\n",
              "      <td>0.0</td>\n",
              "    </tr>\n",
              "    <tr>\n",
              "      <th>3</th>\n",
              "      <td>NaN</td>\n",
              "      <td>Nepal</td>\n",
              "      <td>28.1667</td>\n",
              "      <td>84.2500</td>\n",
              "      <td>2020-01-22</td>\n",
              "      <td>0.0</td>\n",
              "      <td>0.0</td>\n",
              "      <td>0.0</td>\n",
              "    </tr>\n",
              "    <tr>\n",
              "      <th>4</th>\n",
              "      <td>NaN</td>\n",
              "      <td>Malaysia</td>\n",
              "      <td>2.5000</td>\n",
              "      <td>112.5000</td>\n",
              "      <td>2020-01-22</td>\n",
              "      <td>0.0</td>\n",
              "      <td>0.0</td>\n",
              "      <td>0.0</td>\n",
              "    </tr>\n",
              "  </tbody>\n",
              "</table>\n",
              "</div>"
            ],
            "text/plain": [
              "  Province/State    Country      Lat  ...  Confirmed Deaths  Recovered\n",
              "0            NaN   Thailand  15.0000  ...        2.0    0.0        0.0\n",
              "1            NaN      Japan  36.0000  ...        2.0    0.0        0.0\n",
              "2            NaN  Singapore   1.2833  ...        0.0    0.0        0.0\n",
              "3            NaN      Nepal  28.1667  ...        0.0    0.0        0.0\n",
              "4            NaN   Malaysia   2.5000  ...        0.0    0.0        0.0\n",
              "\n",
              "[5 rows x 8 columns]"
            ]
          },
          "metadata": {
            "tags": []
          },
          "execution_count": 26
        }
      ]
    },
    {
      "cell_type": "code",
      "metadata": {
        "id": "tPZJboAe1QJQ",
        "colab_type": "code",
        "colab": {}
      },
      "source": [
        "df2=df.groupby([\"Date\",\"Country\",\"Province/State\"]) [['Date','Province/State','Country','Confirmed','Deaths','Recovered']]\n",
        "df2.head()"
      ],
      "execution_count": 0,
      "outputs": []
    },
    {
      "cell_type": "code",
      "metadata": {
        "id": "5EfX1mg83Jxb",
        "colab_type": "code",
        "colab": {}
      },
      "source": [
        "#check for india data\n",
        "\n",
        "df.query('Country==\"India\"').groupby(\"Date\")[['Confirmed','Deaths','Recovered']].sum().reset_index()"
      ],
      "execution_count": 0,
      "outputs": []
    },
    {
      "cell_type": "code",
      "metadata": {
        "id": "szwg4_bD32vn",
        "colab_type": "code",
        "colab": {}
      },
      "source": [
        "#overall world Confirmed cases\n",
        "Path\n",
        "\n",
        "df.groupby('Date').sum().head()\n",
        " "
      ],
      "execution_count": 0,
      "outputs": []
    },
    {
      "cell_type": "code",
      "metadata": {
        "id": "EtvpEiM14Yzj",
        "colab_type": "code",
        "colab": {}
      },
      "source": [
        "confirmed=df.groupby('Date').sum()['Confirmed'].reset_index()\n",
        "deaths=df.groupby('Date').sum()['Recovered'].reset_index()\n",
        "recovered=df.groupby('Date').sum()['Recovered'].reset_index()\n"
      ],
      "execution_count": 0,
      "outputs": []
    },
    {
      "cell_type": "code",
      "metadata": {
        "id": "eUHrJWaw5Ox3",
        "colab_type": "code",
        "colab": {}
      },
      "source": [
        "fig=go.Figure()\n",
        "\n",
        "fig.add_trace(go.Scatter(x=confirmed['Date'], y=confirmed['Confirmed'], mode='lines+markers',name='Confirmed',line=dict(color='Blue'),width=2)\n",
        "fig.add_trace(go.Scatter(x=deaths['Date'], y=deaths['Deaths'], mode='lines+markers',name='Deaths',line=dict(color='Red'), widht=2)\n",
        "fig.add_trace(go.Scatter(x=recovered['Date'], y=recovered['Recovered'], mode='lines+markers',name='Recovered',line=dict(color='Green'),width=2)\n",
        "\n",
        "fig.update_layout(title='Worldwide NCOVID-19 Cases',xaxis_tickfont_size=14,yaxis=dict(title='Number of Cases'))\n",
        "fig.show()\n"
      ],
      "execution_count": 0,
      "outputs": []
    },
    {
      "cell_type": "code",
      "metadata": {
        "id": "Nq9owvBG_L2N",
        "colab_type": "code",
        "colab": {}
      },
      "source": [
        "from fbprophet import Prophet\n",
        "confirmed=df.groupby('Date').sum()['Confirmed'].reset_index()\n",
        "deaths=df.groupby('Date').sum()['Recovered'].reset_index()\n",
        "recovered=df.groupby('Date').sum()['Recovered'].reset_index()Path\n"
      ],
      "execution_count": 0,
      "outputs": []
    },
    {
      "cell_type": "code",
      "metadata": {
        "id": "eWXOEGrV_-1M",
        "colab_type": "code",
        "colab": {}
      },
      "source": [
        "#import pandas as pd\n",
        "\n",
        "confirmed.columns=['ds','y']\n",
        "confirmed['ds']=pd.to_datetime(confirmed['ds'])\n",
        "confirmed.tail()\n"
      ],
      "execution_count": 0,
      "outputs": []
    },
    {
      "cell_type": "code",
      "metadata": {
        "id": "ICzlAWx7AREo",
        "colab_type": "code",
        "colab": {}
      },
      "source": [
        "#fore casting confirmed covid 19 cases \n",
        "\n",
        "a = Prophet(interval_width=0.95)\n",
        "a.fit(confirmed)\n",
        "future=a.make_future_dataframe(periods=10)\n",
        "future.tail()\n"
      ],
      "execution_count": 0,
      "outputs": []
    },
    {
      "cell_type": "code",
      "metadata": {
        "id": "8mKE1_LqBH_H",
        "colab_type": "code",
        "colab": {}
      },
      "source": [
        "#predicted the future with date and lower,upper limit of  y values\n",
        "forecast=a.predict(future)\n",
        "forecast[['ds','yhat','yhat_lower','yhat_upper']].tail()\n"
      ],
      "execution_count": 0,
      "outputs": []
    },
    {
      "cell_type": "code",
      "metadata": {
        "id": "tTpHk50HDYR7",
        "colab_type": "code",
        "colab": {}
      },
      "source": [
        "confirmed_forecast_plot=a.plot(forecast)\n"
      ],
      "execution_count": 0,
      "outputs": []
    },
    {
      "cell_type": "code",
      "metadata": {
        "id": "xBI7zOK-DhUn",
        "colab_type": "code",
        "colab": {}
      },
      "source": [
        "forecast = Prophet(interval_width=0.95).fit(df).predict(future)"
      ],
      "execution_count": 0,
      "outputs": []
    },
    {
      "cell_type": "code",
      "metadata": {
        "id": "CBoceAluDrTv",
        "colab_type": "code",
        "colab": {}
      },
      "source": [
        "deaths_forecast_plot=a.plot(forecast)"
      ],
      "execution_count": 0,
      "outputs": []
    },
    {
      "cell_type": "code",
      "metadata": {
        "id": "4dBwywVPEFrQ",
        "colab_type": "code",
        "colab": {}
      },
      "source": [
        "recovered_forecast_plot=a.plot(forecast)"
      ],
      "execution_count": 0,
      "outputs": []
    },
    {
      "cell_type": "code",
      "metadata": {
        "id": "5ZUs3_FzEMM0",
        "colab_type": "code",
        "colab": {}
      },
      "source": [
        "recovered_forecast_plot=a.plot_components(forecast)\n"
      ],
      "execution_count": 0,
      "outputs": []
    },
    {
      "cell_type": "code",
      "metadata": {
        "id": "RHRp9bXuE0o4",
        "colab_type": "code",
        "colab": {}
      },
      "source": [
        ""
      ],
      "execution_count": 0,
      "outputs": []
    }
  ]
}